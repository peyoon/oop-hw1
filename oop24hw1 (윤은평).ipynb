{
 "cells": [
  {
   "cell_type": "markdown",
   "id": "49b2bb3f-8a94-4aba-bf67-6b97d86c0047",
   "metadata": {},
   "source": [
    "# OOP (2024 Fall) HW1: 불변 순서쌍을 활용해 가변 순서쌍 만들기 \n",
    "- 이름: 윤은평\n",
    "- 학번: 20200552\n",
    "\n",
    "여기 홍길동, 99999999 대신 본인의 이름, 학번 작성"
   ]
  },
  {
   "cell_type": "markdown",
   "id": "9c3c24aa-19ac-4c88-a228-0d1686034a24",
   "metadata": {},
   "source": [
    "-----\n",
    "## Part A: 불변 순서쌍 Pair\n",
    "1. 클래스(또는 정적) 팩토리 메소드 `of`를 를 수정하여 완성하라.\n",
    "    - https://velog.io/@cjh8746/%EC%A0%95%EC%A0%81-%ED%8C%A9%ED%86%A0%EB%A6%AC-%EB%A9%94%EC%84%9C%EB%93%9CStatic-Factory-Method\n",
    "1. 주석 부분을 풀어 제너릭 클래스인 `Pair`가 제너릭 인터페이스 `Comparable`를 구현하도록 완성하라.\n",
    "    - https://docs.oracle.com/en/java/javase/22/docs/api/java.base/java/lang/Comparable.html"
   ]
  },
  {
   "cell_type": "code",
   "execution_count": 1,
   "id": "f2b4bcb7-9d9c-494a-9762-ca0700c6f762",
   "metadata": {},
   "outputs": [],
   "source": [
    "record Pair<F extends Comparable<F>, S extends Comparable<S>>(F first, S second) implements Comparable<Pair<F, S>> {\n",
    "\n",
    "    // 제너릭 메소드로 수정된 of 메소드\n",
    "    static <F extends Comparable<F>, S extends Comparable<S>> Pair<F, S> of(F first, S second) {\n",
    "        return new Pair<>(first, second);\n",
    "    }\n",
    "\n",
    "    // compareTo 메소드 구현\n",
    "    @Override\n",
    "    public int compareTo(Pair<F, S> other) {\n",
    "        int firstComparison = this.first.compareTo(other.first);\n",
    "        if (firstComparison != 0) {\n",
    "            // -1, 0, 1로 명확하게 반환\n",
    "            return Integer.compare(firstComparison, 0);\n",
    "        }\n",
    "        int secondComparison = this.second.compareTo(other.second);\n",
    "        return Integer.compare(secondComparison, 0);\n",
    "    }\n",
    "}\n"
   ]
  },
  {
   "cell_type": "code",
   "execution_count": 2,
   "id": "5fb5b2ac-4ac0-40cc-9f87-1675177e4baa",
   "metadata": {},
   "outputs": [
    {
     "name": "stdout",
     "output_type": "stream",
     "text": [
      "pair1.compareTo(pair2): -1\n",
      "pair2.compareTo(pair1): 1\n",
      "pair1.compareTo(pair3): -1\n",
      "pair1.compareTo(pair4): 0\n",
      "pair3.compareTo(pair1): 1\n"
     ]
    }
   ],
   "source": [
    "Pair<Integer, String> pair1 = Pair.of(1, \"apple\");\n",
    "Pair<Integer, String> pair2 = Pair.of(2, \"banana\");\n",
    "Pair<Integer, String> pair3 = Pair.of(1, \"orange\");\n",
    "Pair<Integer, String> pair4 = Pair.of(1, \"apple\");\n",
    "\n",
    "        // 테스트 1: 왼쪽 값이 더 작은 경우 (pair1 < pair2)\n",
    "System.out.println(\"pair1.compareTo(pair2): \" + pair1.compareTo(pair2)); // 출력: -1 (1 < 2)\n",
    "\n",
    "        // 테스트 2: 왼쪽 값이 더 큰 경우 (pair2 > pair1)\n",
    "System.out.println(\"pair2.compareTo(pair1): \" + pair2.compareTo(pair1)); // 출력: 1 (2 > 1)\n",
    "\n",
    "        // 테스트 3: first 값이 같고, second 값이 다른 경우 (pair1 < pair3)\n",
    "System.out.println(\"pair1.compareTo(pair3): \" + pair1.compareTo(pair3)); // 출력: -1 (\"apple\" < \"orange\")\n",
    "\n",
    "        // 테스트 4: first와 second 값이 모두 같은 경우 (pair1 == pair4)\n",
    "System.out.println(\"pair1.compareTo(pair4): \" + pair1.compareTo(pair4)); // 출력: 0 (모두 같음)\n",
    "\n",
    "        // 테스트 5: first가 같고 second 값이 더 큰 경우 (pair3 > pair1)\n",
    "System.out.println(\"pair3.compareTo(pair1): \" + pair3.compareTo(pair1)); // 출력: 1 (\"orange\" > \"apple\")"
   ]
  },
  {
   "cell_type": "markdown",
   "id": "e2774a64-250e-4e89-a536-5a8ed42bb4ce",
   "metadata": {},
   "source": [
    "------\n",
    "## Part B: 가변 순서쌍 ModifiablePair\n",
    "\n",
    "불변 순서쌍만을 priviate 필드로 갖고 있는 가변 순서쌍 제너릭 클래스를 작성하라\n",
    "\n",
    "가변 순서쌍은 불변 순서쌍과 마찬가지 이름의 getter 메소드가 있고 추가로 setter 메소드도 있다.\n",
    "\n",
    "또, 가변 순서쌍도 불변 순서쌍과 마찬가지로 Comparable 제너릭 인터페이스를 구현하라.\n"
   ]
  },
  {
   "cell_type": "code",
   "execution_count": 10,
   "id": "38eb649f-d95e-40d8-a33b-658df4ee4a7f",
   "metadata": {},
   "outputs": [],
   "source": [
    "class ModifiablePair<F extends Comparable<F>, S extends Comparable<S>> implements Comparable<ModifiablePair<F, S>> {\n",
    "    private Pair<F, S> pair; // 불변 순서쌍 필드\n",
    "\n",
    "    // 생성자: 새로운 Pair 객체를 생성\n",
    "    ModifiablePair(F first, S second) {\n",
    "        this.pair = Pair.of(first, second);\n",
    "    }\n",
    "\n",
    "    // Getter: pair의 first, second 값을 반환\n",
    "    public F first() {\n",
    "        return pair.first();\n",
    "    }\n",
    "\n",
    "    public S second() {\n",
    "        return pair.second();\n",
    "    }\n",
    "\n",
    "    // Setter: 새로운 값으로 pair 필드를 변경\n",
    "    public void setFirst(F first) {\n",
    "        this.pair = Pair.of(first, this.pair.second()); // 기존 second를 유지하며 first 변경\n",
    "    }\n",
    "\n",
    "    public void setSecond(S second) {\n",
    "        this.pair = Pair.of(this.pair.first(), second); // 기존 first를 유지하며 second 변경\n",
    "    }\n",
    "\n",
    "    // compareTo 메소드: pair의 compareTo를 위임\n",
    "    @Override\n",
    "    public int compareTo(ModifiablePair<F, S> other) {\n",
    "        return this.pair.compareTo(other.pair);\n",
    "    }\n",
    "\n",
    "    @Override\n",
    "    public String toString() {\n",
    "        return pair.toString(); // toString도 pair에 위임\n",
    "    }\n",
    "}\n"
   ]
  },
  {
   "cell_type": "code",
   "execution_count": 7,
   "id": "57af3b33-b9db-43bd-a8e7-5b35d97aaf5e",
   "metadata": {},
   "outputs": [],
   "source": [
    "// ModifiablePair<F,S>의 getter와 setter들이 잘 동작하는지 확인할 수 있는 적절한 테스트 코드 작성하여 실행하라.\n",
    "// 그러니까 `first()`, `second()`, `setFrist(F)`, `setSecond(S)` 메소드를 모두 활용하는 예시 코드를 작성해 실행하라는 말이다."
   ]
  },
  {
   "cell_type": "code",
   "execution_count": 11,
   "id": "e0b9e66e-d3fa-4485-b6f6-4075eca8fcf3",
   "metadata": {},
   "outputs": [
    {
     "name": "stdout",
     "output_type": "stream",
     "text": [
      "pair1 first: 1\n",
      "pair1 second: apple\n",
      "pair1 updated first: 3\n",
      "pair1 updated second: grape\n",
      "pair1.compareTo(pair2): 1\n",
      "pair2.compareTo(pair1): -1\n",
      "pair1.compareTo(pair4): 0\n",
      "pair1.compareTo(pair3): 1\n"
     ]
    }
   ],
   "source": [
    "// ModifiablePair 생성\n",
    "ModifiablePair<Integer, String> pair1 = new ModifiablePair<>(1, \"apple\");\n",
    "ModifiablePair<Integer, String> pair2 = new ModifiablePair<>(2, \"banana\");\n",
    "ModifiablePair<Integer, String> pair3 = new ModifiablePair<>(1, \"orange\");\n",
    "\n",
    "// Getter 테스트\n",
    "System.out.println(\"pair1 first: \" + pair1.first()); // 1 출력\n",
    "        System.out.println(\"pair1 second: \" + pair1.second()); // \"apple\" 출력\n",
    "\n",
    "        // Setter 테스트\n",
    "        pair1.setFirst(3);\n",
    "        pair1.setSecond(\"grape\");\n",
    "        System.out.println(\"pair1 updated first: \" + pair1.first()); // 3 출력\n",
    "        System.out.println(\"pair1 updated second: \" + pair1.second()); // \"grape\" 출력\n",
    "\n",
    "        // compareTo 테스트\n",
    "        // 왼쪽이 더 작은 경우\n",
    "        System.out.println(\"pair1.compareTo(pair2): \" + pair1.compareTo(pair2)); // 출력: 1 (3 > 2)\n",
    "\n",
    "        // 왼쪽이 더 큰 경우\n",
    "        System.out.println(\"pair2.compareTo(pair1): \" + pair2.compareTo(pair1)); // 출력: -1 (2 < 3)\n",
    "\n",
    "        // 같은 경우\n",
    "        ModifiablePair<Integer, String> pair4 = new ModifiablePair<>(3, \"grape\");\n",
    "        System.out.println(\"pair1.compareTo(pair4): \" + pair1.compareTo(pair4)); // 출력: 0 (모두 동일)\n",
    "\n",
    "        // first가 같고 second가 다른 경우\n",
    "        System.out.println(\"pair1.compareTo(pair3): \" + pair1.compareTo(pair3)); // 출력: 1 (\"grape\" > \"orange\")\n"
   ]
  },
  {
   "cell_type": "code",
   "execution_count": null,
   "id": "bf8f019e-951b-4b92-a31d-3c28b5994e4d",
   "metadata": {},
   "outputs": [],
   "source": []
  },
  {
   "cell_type": "code",
   "execution_count": null,
   "id": "4574672b-5d37-469b-9128-b5828e762e81",
   "metadata": {},
   "outputs": [],
   "source": []
  }
 ],
 "metadata": {
  "kernelspec": {
   "display_name": "Java (rjk 2.1.0)",
   "language": "java",
   "name": "rapaio-jupyter-kernel"
  },
  "language_info": {
   "codemirror_mode": "java",
   "file_extension": ".jshell",
   "mimetype": "text/x-java-source",
   "name": "java",
   "nbconvert_exporter": "script",
   "pygments_lexer": "java",
   "version": "22.0.2+9"
  }
 },
 "nbformat": 4,
 "nbformat_minor": 5
}
